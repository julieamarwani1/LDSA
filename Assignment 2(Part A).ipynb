{
 "cells": [
  {
   "cell_type": "code",
   "execution_count": 2,
   "metadata": {},
   "outputs": [],
   "source": [
    "from pyspark.sql import SparkSession\n",
    "from pyspark.ml import Pipeline\n",
    "\n",
    "# (8 cores, 16gb per machine) x 5 = 40 cores\n",
    "\n",
    "# New API\n",
    "spark_session = SparkSession\\\n",
    "        .builder\\\n",
    "        .master(\"spark://192.168.1.153:7077\") \\\n",
    "        .appName(\"hadoop_example\")\\\n",
    "        .config(\"spark.dynamicAllocation.enabled\", True)\\\n",
    "        .config(\"spark.shuffle.service.enabled\", True)\\\n",
    "        .config(\"spark.dynamicAllocation.executorIdleTimeout\",\"30s\")\\\n",
    "        .config(\"spark.executor.cores\",4)\\\n",
    "        .getOrCreate()\n",
    "\n",
    "# Old API (RDD)\n",
    "spark_context = spark_session.sparkContext"
   ]
  },
  {
   "cell_type": "code",
   "execution_count": 3,
   "metadata": {},
   "outputs": [
    {
     "name": "stdout",
     "output_type": "stream",
     "text": [
      "1968800\n"
     ]
    }
   ],
   "source": [
    "# Reading the English transcript with Spark and count the number of lines\n",
    "lines_en = spark_context.textFile(\"hdfs://192.168.1.153:9000/europarl/europarl-v7.da-en.en\")\n",
    "print(lines_en.count())"
   ]
  },
  {
   "cell_type": "code",
   "execution_count": 4,
   "metadata": {
    "scrolled": true
   },
   "outputs": [
    {
     "name": "stdout",
     "output_type": "stream",
     "text": [
      "1968800\n"
     ]
    }
   ],
   "source": [
    "# Reading the Swedish transcript with Spark and count the number of lines\n",
    "lines_da = spark_context.textFile(\"hdfs://192.168.1.153:9000/europarl/europarl-v7.da-en.da\")\n",
    "print(lines_da.count())"
   ]
  },
  {
   "cell_type": "code",
   "execution_count": 37,
   "metadata": {},
   "outputs": [
    {
     "name": "stdout",
     "output_type": "stream",
     "text": [
      "line counts are same\n"
     ]
    }
   ],
   "source": [
    "# Verifying the line counts are the same for the two languages\n",
    "if lines_en.count() == lines_da.count():\n",
    "    print(\"line counts are same\")\n",
    "else:\n",
    "    print(\"line counts are not same\")"
   ]
  },
  {
   "cell_type": "code",
   "execution_count": 38,
   "metadata": {},
   "outputs": [
    {
     "data": {
      "text/plain": [
       "3"
      ]
     },
     "execution_count": 38,
     "metadata": {},
     "output_type": "execute_result"
    }
   ],
   "source": [
    "# Counting the number of partitions\n",
    "lines_en.getNumPartitions()"
   ]
  },
  {
   "cell_type": "code",
   "execution_count": 39,
   "metadata": {},
   "outputs": [
    {
     "data": {
      "text/plain": [
       "3"
      ]
     },
     "execution_count": 39,
     "metadata": {},
     "output_type": "execute_result"
    }
   ],
   "source": [
    "lines_da.getNumPartitions()"
   ]
  },
  {
   "cell_type": "code",
   "execution_count": 6,
   "metadata": {},
   "outputs": [
    {
     "name": "stdout",
     "output_type": "stream",
     "text": [
      "['Resumption of the session', 'I declare resumed the session of the European Parliament adjourned on Friday 17 December 1999, and I would like once again to wish you a happy new year in the hope that you enjoyed a pleasant festive period.', \"Although, as you will have seen, the dreaded 'millennium bug' failed to materialise, still the people in a number of countries suffered a series of natural disasters that truly were dreadful.\", 'You have requested a debate on this subject in the course of the next few days, during this part-session.', \"In the meantime, I should like to observe a minute' s silence, as a number of Members have requested, on behalf of all the victims concerned, particularly those of the terrible storms, in the various countries of the European Union.\", \"Please rise, then, for this minute' s silence.\", \"(The House rose and observed a minute' s silence)\", 'Madam President, on a point of order.', 'You will be aware from the press and television that there have been a number of bomb explosions and killings in Sri Lanka.', 'One of the people assassinated very recently in Sri Lanka was Mr Kumar Ponnambalam, who had visited the European Parliament just a few months ago.']\n"
     ]
    }
   ],
   "source": [
    "# Reading 10 lines from an English transcript \n",
    "lines_en = spark_context.textFile(\"hdfs://192.168.1.153:9000/europarl/europarl-v7.da-en.en\")\n",
    "print(lines_en.take(10))"
   ]
  },
  {
   "cell_type": "code",
   "execution_count": 41,
   "metadata": {},
   "outputs": [
    {
     "name": "stdout",
     "output_type": "stream",
     "text": [
      "['Genoptagelse af sessionen', 'Jeg erklærer Europa-Parlamentets session, der blev afbrudt fredag den 17. december, for genoptaget. Endnu en gang vil jeg ønske Dem godt nytår, og jeg håber, De har haft en god ferie.', 'Som De kan se, indfandt det store \"år 2000-problem\" sig ikke. Til gengæld har borgerne i en del af medlemslandene været ramt af meget forfærdelige naturkatastrofer.', 'De har udtrykt ønske om en debat om dette emne i løbet af mødeperioden.', 'I mellemtiden ønsker jeg - som også en del kolleger har anmodet om - at vi iagttager et minuts stilhed til minde om ofrene for bl.a. stormene i de medlemslande, der blev ramt.', 'Jeg opfordrer Dem til stående at iagttage et minuts stilhed.', '(Parlamentet iagttog stående et minuts stilhed', 'Fru formand, en bemærkning til forretningsordenen.', 'Gennem pressen og tv vil De være bekendt med en række bombeeksplosioner og drab i Sri Lanka.', 'En af de personer, der blev myrdet for ganske nylig i Sri Lanka, var hr. Kumar Ponnambalam, der besøgte Europa-Parlamentet for få måneder siden.']\n"
     ]
    }
   ],
   "source": [
    "# Reading 10 lines from an other transcript\n",
    "lines_da = spark_context.textFile(\"hdfs://192.168.1.153:9000/europarl/europarl-v7.da-en.da\")\n",
    "print(lines_da.take(10))"
   ]
  },
  {
   "cell_type": "code",
   "execution_count": 5,
   "metadata": {},
   "outputs": [
    {
     "name": "stdout",
     "output_type": "stream",
     "text": [
      "[['resumption', 'of', 'the', 'session'], ['i', 'declare', 'resumed', 'the', 'session', 'of', 'the', 'european', 'parliament', 'adjourned', 'on', 'friday', '17', 'december', '1999,', 'and', 'i', 'would', 'like', 'once', 'again', 'to', 'wish', 'you', 'a', 'happy', 'new', 'year', 'in', 'the', 'hope', 'that', 'you', 'enjoyed', 'a', 'pleasant', 'festive', 'period.'], ['although,', 'as', 'you', 'will', 'have', 'seen,', 'the', 'dreaded', \"'millennium\", \"bug'\", 'failed', 'to', 'materialise,', 'still', 'the', 'people', 'in', 'a', 'number', 'of', 'countries', 'suffered', 'a', 'series', 'of', 'natural', 'disasters', 'that', 'truly', 'were', 'dreadful.'], ['you', 'have', 'requested', 'a', 'debate', 'on', 'this', 'subject', 'in', 'the', 'course', 'of', 'the', 'next', 'few', 'days,', 'during', 'this', 'part-session.'], ['in', 'the', 'meantime,', 'i', 'should', 'like', 'to', 'observe', 'a', \"minute'\", 's', 'silence,', 'as', 'a', 'number', 'of', 'members', 'have', 'requested,', 'on', 'behalf', 'of', 'all', 'the', 'victims', 'concerned,', 'particularly', 'those', 'of', 'the', 'terrible', 'storms,', 'in', 'the', 'various', 'countries', 'of', 'the', 'european', 'union.'], ['please', 'rise,', 'then,', 'for', 'this', \"minute'\", 's', 'silence.'], ['(the', 'house', 'rose', 'and', 'observed', 'a', \"minute'\", 's', 'silence)'], ['madam', 'president,', 'on', 'a', 'point', 'of', 'order.'], ['you', 'will', 'be', 'aware', 'from', 'the', 'press', 'and', 'television', 'that', 'there', 'have', 'been', 'a', 'number', 'of', 'bomb', 'explosions', 'and', 'killings', 'in', 'sri', 'lanka.'], ['one', 'of', 'the', 'people', 'assassinated', 'very', 'recently', 'in', 'sri', 'lanka', 'was', 'mr', 'kumar', 'ponnambalam,', 'who', 'had', 'visited', 'the', 'european', 'parliament', 'just', 'a', 'few', 'months', 'ago.']]\n",
      "[['genoptagelse', 'af', 'sessionen'], ['jeg', 'erklærer', 'europa-parlamentets', 'session,', 'der', 'blev', 'afbrudt', 'fredag', 'den', '17.', 'december,', 'for', 'genoptaget.', 'endnu', 'en', 'gang', 'vil', 'jeg', 'ønske', 'dem', 'godt', 'nytår,', 'og', 'jeg', 'håber,', 'de', 'har', 'haft', 'en', 'god', 'ferie.'], ['som', 'de', 'kan', 'se,', 'indfandt', 'det', 'store', '\"år', '2000-problem\"', 'sig', 'ikke.', 'til', 'gengæld', 'har', 'borgerne', 'i', 'en', 'del', 'af', 'medlemslandene', 'været', 'ramt', 'af', 'meget', 'forfærdelige', 'naturkatastrofer.'], ['de', 'har', 'udtrykt', 'ønske', 'om', 'en', 'debat', 'om', 'dette', 'emne', 'i', 'løbet', 'af', 'mødeperioden.'], ['i', 'mellemtiden', 'ønsker', 'jeg', '-', 'som', 'også', 'en', 'del', 'kolleger', 'har', 'anmodet', 'om', '-', 'at', 'vi', 'iagttager', 'et', 'minuts', 'stilhed', 'til', 'minde', 'om', 'ofrene', 'for', 'bl.a.', 'stormene', 'i', 'de', 'medlemslande,', 'der', 'blev', 'ramt.'], ['jeg', 'opfordrer', 'dem', 'til', 'stående', 'at', 'iagttage', 'et', 'minuts', 'stilhed.'], ['(parlamentet', 'iagttog', 'stående', 'et', 'minuts', 'stilhed'], ['fru', 'formand,', 'en', 'bemærkning', 'til', 'forretningsordenen.'], ['gennem', 'pressen', 'og', 'tv', 'vil', 'de', 'være', 'bekendt', 'med', 'en', 'række', 'bombeeksplosioner', 'og', 'drab', 'i', 'sri', 'lanka.'], ['en', 'af', 'de', 'personer,', 'der', 'blev', 'myrdet', 'for', 'ganske', 'nylig', 'i', 'sri', 'lanka,', 'var', 'hr.', 'kumar', 'ponnambalam,', 'der', 'besøgte', 'europa-parlamentet', 'for', 'få', 'måneder', 'siden.']]\n",
      "1968800\n",
      "1968800\n"
     ]
    }
   ],
   "source": [
    "# Pre-processing the text: Lowercase the text, Tokenize the text (split on space)\n",
    "def prepro_txt(line):\n",
    "    line = line.lower()\n",
    "    line = line.split(' ')\n",
    "    return line\n",
    "# mapping the files to a defined function for pre-processing\n",
    "file1 = lines_en.map(prepro_txt)\n",
    "file2 = lines_da.map(prepro_txt)\n",
    "# taking 10 entries from each RDD\n",
    "print(file1.take(10))\n",
    "print(file2.take(10))\n",
    "# Verifying the line counts\n",
    "print(file1.count())\n",
    "print(file2.count())\n"
   ]
  },
  {
   "cell_type": "code",
   "execution_count": 9,
   "metadata": {},
   "outputs": [
    {
     "name": "stdout",
     "output_type": "stream",
     "text": [
      "the 3463316\n",
      "of 1758135\n",
      "to 1625165\n",
      "and 1359258\n",
      "in 1064804\n",
      "that 807555\n",
      "a 805207\n",
      "is 800321\n",
      "for 546323\n",
      "I 532905\n"
     ]
    }
   ],
   "source": [
    "# 10 most frequently according words in English transcript\n",
    "words_en = lines_en.flatMap(lambda l: l.split())\n",
    "word_counts_to_sum_en = words_en.map(lambda w: (w, 1))\n",
    "word_freqt_en = word_counts_to_sum_en.reduceByKey(lambda f1, f2: f1 + f2)\n",
    "top10 = word_freqt_en.top(10, lambda wf: wf[1])\n",
    "for word, freq in top10:\n",
    "    print(word, freq)"
   ]
  },
  {
   "cell_type": "code",
   "execution_count": 43,
   "metadata": {},
   "outputs": [
    {
     "name": "stdout",
     "output_type": "stream",
     "text": [
      "at 1542543\n",
      "og 1418244\n",
      "i 1175970\n",
      "er 1023391\n",
      "af 905133\n",
      "for 885747\n",
      "til 744325\n",
      "en 658567\n",
      "det 654194\n",
      "de 552178\n"
     ]
    }
   ],
   "source": [
    "# 10 most frequently according words in Swedish transcript\n",
    "words_da = lines_da.flatMap(lambda l: l.split())\n",
    "word_counts_to_sum_da = words_da.map(lambda w: (w, 1))\n",
    "word_freqt_da = word_counts_to_sum_da.reduceByKey(lambda f1, f2: f1 + f2)\n",
    "top10 = word_freqt_da.top(10, lambda wf: wf[1])\n",
    "for word, freq in top10:\n",
    "    print(word, freq)"
   ]
  },
  {
   "cell_type": "code",
   "execution_count": 8,
   "metadata": {},
   "outputs": [
    {
     "name": "stdout",
     "output_type": "stream",
     "text": [
      "[(['resumption', 'of', 'the', 'session'], 0), (['i', 'declare', 'resumed', 'the', 'session', 'of', 'the', 'european', 'parliament', 'adjourned', 'on', 'friday', '17', 'december', '1999,', 'and', 'i', 'would', 'like', 'once', 'again', 'to', 'wish', 'you', 'a', 'happy', 'new', 'year', 'in', 'the', 'hope', 'that', 'you', 'enjoyed', 'a', 'pleasant', 'festive', 'period.'], 1), (['although,', 'as', 'you', 'will', 'have', 'seen,', 'the', 'dreaded', \"'millennium\", \"bug'\", 'failed', 'to', 'materialise,', 'still', 'the', 'people', 'in', 'a', 'number', 'of', 'countries', 'suffered', 'a', 'series', 'of', 'natural', 'disasters', 'that', 'truly', 'were', 'dreadful.'], 2), (['you', 'have', 'requested', 'a', 'debate', 'on', 'this', 'subject', 'in', 'the', 'course', 'of', 'the', 'next', 'few', 'days,', 'during', 'this', 'part-session.'], 3), (['in', 'the', 'meantime,', 'i', 'should', 'like', 'to', 'observe', 'a', \"minute'\", 's', 'silence,', 'as', 'a', 'number', 'of', 'members', 'have', 'requested,', 'on', 'behalf', 'of', 'all', 'the', 'victims', 'concerned,', 'particularly', 'those', 'of', 'the', 'terrible', 'storms,', 'in', 'the', 'various', 'countries', 'of', 'the', 'european', 'union.'], 4), (['please', 'rise,', 'then,', 'for', 'this', \"minute'\", 's', 'silence.'], 5), (['(the', 'house', 'rose', 'and', 'observed', 'a', \"minute'\", 's', 'silence)'], 6), (['madam', 'president,', 'on', 'a', 'point', 'of', 'order.'], 7), (['you', 'will', 'be', 'aware', 'from', 'the', 'press', 'and', 'television', 'that', 'there', 'have', 'been', 'a', 'number', 'of', 'bomb', 'explosions', 'and', 'killings', 'in', 'sri', 'lanka.'], 8), (['one', 'of', 'the', 'people', 'assassinated', 'very', 'recently', 'in', 'sri', 'lanka', 'was', 'mr', 'kumar', 'ponnambalam,', 'who', 'had', 'visited', 'the', 'european', 'parliament', 'just', 'a', 'few', 'months', 'ago.'], 9)]\n",
      "[(['genoptagelse', 'af', 'sessionen'], 0), (['jeg', 'erklærer', 'europa-parlamentets', 'session,', 'der', 'blev', 'afbrudt', 'fredag', 'den', '17.', 'december,', 'for', 'genoptaget.', 'endnu', 'en', 'gang', 'vil', 'jeg', 'ønske', 'dem', 'godt', 'nytår,', 'og', 'jeg', 'håber,', 'de', 'har', 'haft', 'en', 'god', 'ferie.'], 1), (['som', 'de', 'kan', 'se,', 'indfandt', 'det', 'store', '\"år', '2000-problem\"', 'sig', 'ikke.', 'til', 'gengæld', 'har', 'borgerne', 'i', 'en', 'del', 'af', 'medlemslandene', 'været', 'ramt', 'af', 'meget', 'forfærdelige', 'naturkatastrofer.'], 2), (['de', 'har', 'udtrykt', 'ønske', 'om', 'en', 'debat', 'om', 'dette', 'emne', 'i', 'løbet', 'af', 'mødeperioden.'], 3), (['i', 'mellemtiden', 'ønsker', 'jeg', '-', 'som', 'også', 'en', 'del', 'kolleger', 'har', 'anmodet', 'om', '-', 'at', 'vi', 'iagttager', 'et', 'minuts', 'stilhed', 'til', 'minde', 'om', 'ofrene', 'for', 'bl.a.', 'stormene', 'i', 'de', 'medlemslande,', 'der', 'blev', 'ramt.'], 4), (['jeg', 'opfordrer', 'dem', 'til', 'stående', 'at', 'iagttage', 'et', 'minuts', 'stilhed.'], 5), (['(parlamentet', 'iagttog', 'stående', 'et', 'minuts', 'stilhed'], 6), (['fru', 'formand,', 'en', 'bemærkning', 'til', 'forretningsordenen.'], 7), (['gennem', 'pressen', 'og', 'tv', 'vil', 'de', 'være', 'bekendt', 'med', 'en', 'række', 'bombeeksplosioner', 'og', 'drab', 'i', 'sri', 'lanka.'], 8), (['en', 'af', 'de', 'personer,', 'der', 'blev', 'myrdet', 'for', 'ganske', 'nylig', 'i', 'sri', 'lanka,', 'var', 'hr.', 'kumar', 'ponnambalam,', 'der', 'besøgte', 'europa-parlamentet', 'for', 'få', 'måneder', 'siden.'], 9)]\n"
     ]
    }
   ],
   "source": [
    "# Key the lines by their line number \n",
    "en_1 = file1.zipWithIndex()\n",
    "da_1 = file2.zipWithIndex()\n",
    "print(en_1.take(10))\n",
    "print(da_1.take(10))"
   ]
  },
  {
   "cell_type": "code",
   "execution_count": 10,
   "metadata": {},
   "outputs": [
    {
     "name": "stdout",
     "output_type": "stream",
     "text": [
      "[(0, ['resumption', 'of', 'the', 'session']), (1, ['i', 'declare', 'resumed', 'the', 'session', 'of', 'the', 'european', 'parliament', 'adjourned', 'on', 'friday', '17', 'december', '1999,', 'and', 'i', 'would', 'like', 'once', 'again', 'to', 'wish', 'you', 'a', 'happy', 'new', 'year', 'in', 'the', 'hope', 'that', 'you', 'enjoyed', 'a', 'pleasant', 'festive', 'period.']), (2, ['although,', 'as', 'you', 'will', 'have', 'seen,', 'the', 'dreaded', \"'millennium\", \"bug'\", 'failed', 'to', 'materialise,', 'still', 'the', 'people', 'in', 'a', 'number', 'of', 'countries', 'suffered', 'a', 'series', 'of', 'natural', 'disasters', 'that', 'truly', 'were', 'dreadful.']), (3, ['you', 'have', 'requested', 'a', 'debate', 'on', 'this', 'subject', 'in', 'the', 'course', 'of', 'the', 'next', 'few', 'days,', 'during', 'this', 'part-session.']), (4, ['in', 'the', 'meantime,', 'i', 'should', 'like', 'to', 'observe', 'a', \"minute'\", 's', 'silence,', 'as', 'a', 'number', 'of', 'members', 'have', 'requested,', 'on', 'behalf', 'of', 'all', 'the', 'victims', 'concerned,', 'particularly', 'those', 'of', 'the', 'terrible', 'storms,', 'in', 'the', 'various', 'countries', 'of', 'the', 'european', 'union.']), (5, ['please', 'rise,', 'then,', 'for', 'this', \"minute'\", 's', 'silence.']), (6, ['(the', 'house', 'rose', 'and', 'observed', 'a', \"minute'\", 's', 'silence)']), (7, ['madam', 'president,', 'on', 'a', 'point', 'of', 'order.']), (8, ['you', 'will', 'be', 'aware', 'from', 'the', 'press', 'and', 'television', 'that', 'there', 'have', 'been', 'a', 'number', 'of', 'bomb', 'explosions', 'and', 'killings', 'in', 'sri', 'lanka.']), (9, ['one', 'of', 'the', 'people', 'assassinated', 'very', 'recently', 'in', 'sri', 'lanka', 'was', 'mr', 'kumar', 'ponnambalam,', 'who', 'had', 'visited', 'the', 'european', 'parliament', 'just', 'a', 'few', 'months', 'ago.'])]\n",
      "[(0, ['genoptagelse', 'af', 'sessionen']), (1, ['jeg', 'erklærer', 'europa-parlamentets', 'session,', 'der', 'blev', 'afbrudt', 'fredag', 'den', '17.', 'december,', 'for', 'genoptaget.', 'endnu', 'en', 'gang', 'vil', 'jeg', 'ønske', 'dem', 'godt', 'nytår,', 'og', 'jeg', 'håber,', 'de', 'har', 'haft', 'en', 'god', 'ferie.']), (2, ['som', 'de', 'kan', 'se,', 'indfandt', 'det', 'store', '\"år', '2000-problem\"', 'sig', 'ikke.', 'til', 'gengæld', 'har', 'borgerne', 'i', 'en', 'del', 'af', 'medlemslandene', 'været', 'ramt', 'af', 'meget', 'forfærdelige', 'naturkatastrofer.']), (3, ['de', 'har', 'udtrykt', 'ønske', 'om', 'en', 'debat', 'om', 'dette', 'emne', 'i', 'løbet', 'af', 'mødeperioden.']), (4, ['i', 'mellemtiden', 'ønsker', 'jeg', '-', 'som', 'også', 'en', 'del', 'kolleger', 'har', 'anmodet', 'om', '-', 'at', 'vi', 'iagttager', 'et', 'minuts', 'stilhed', 'til', 'minde', 'om', 'ofrene', 'for', 'bl.a.', 'stormene', 'i', 'de', 'medlemslande,', 'der', 'blev', 'ramt.']), (5, ['jeg', 'opfordrer', 'dem', 'til', 'stående', 'at', 'iagttage', 'et', 'minuts', 'stilhed.']), (6, ['(parlamentet', 'iagttog', 'stående', 'et', 'minuts', 'stilhed']), (7, ['fru', 'formand,', 'en', 'bemærkning', 'til', 'forretningsordenen.']), (8, ['gennem', 'pressen', 'og', 'tv', 'vil', 'de', 'være', 'bekendt', 'med', 'en', 'række', 'bombeeksplosioner', 'og', 'drab', 'i', 'sri', 'lanka.']), (9, ['en', 'af', 'de', 'personer,', 'der', 'blev', 'myrdet', 'for', 'ganske', 'nylig', 'i', 'sri', 'lanka,', 'var', 'hr.', 'kumar', 'ponnambalam,', 'der', 'besøgte', 'europa-parlamentet', 'for', 'få', 'måneder', 'siden.'])]\n"
     ]
    }
   ],
   "source": [
    "# Swap the key and value - so that the line number is the key \n",
    "en_2 = en_1.map(lambda x: (x[1], x[0]))\n",
    "da_2 = da_1.map(lambda x: (x[1], x[0]))\n",
    "print(en_2.take(10))\n",
    "print(da_2.take(10))"
   ]
  },
  {
   "cell_type": "code",
   "execution_count": 11,
   "metadata": {},
   "outputs": [
    {
     "name": "stdout",
     "output_type": "stream",
     "text": [
      "[(902406, (['be', 'that', 'as', 'it', 'may,', 'we', 'can', 'only', 'rejoice', 'wholeheartedly', 'at', 'the', 'outcome.'], ['men', 'vi', 'vil', 'dog', 'se', 'meget,', 'meget', 'positivt', 'på', 'resultatet.'])), (902934, (['the', 'following', 'amendments', 'have', 'been', 'requested', 'to', 'this', 'draft', 'agenda:'], ['der', 'er', 'indleveret', 'følgende', 'ændringsforslag', 'til', 'dagsordensforslaget:'])), (917994, (['the', 'crime', 'could', 'only', 'have', 'been', 'authorised', 'at', 'the', 'highest', 'level', 'in', 'the', 'russian', 'political', 'establishment.'], ['forbrydelsen', 'kunne', 'kun', 'have', 'været', 'bemyndiget', 'fra', 'højeste', 'niveau', 'i', 'de', 'politiske', 'kredse', 'i', 'rusland.'])), (973854, (['on', 'a', 'number', 'of', 'occasions,', 'i', 'have', 'put', 'the', 'question', 'to', 'commissioner', 'fischer', 'boel', 'in', 'this', 'house,', 'and', 'each', 'time', 'she', 'has', 'reassured', 'me', 'that', 'commissioner', 'mandelson', 'is', 'staying', 'within', 'his', 'remit.'], ['jeg', 'har', 'flere', 'gange', 'stillet', 'kommissær', 'fischer', 'boel', 'spørgsmålet', 'i', 'parlamentet,', 'og', 'hun', 'har', 'hver', 'gang', 'forsikret', 'mig', 'om,', 'at', 'kommissær', 'mandelson', 'holder', 'sig', 'inden', 'for', 'sit', 'ansvarsområde.'])), (1088814, (['in', 'writing.', '-', '(lt)', 'the', 'multi-year', 'herring', 'stock', 'management', 'plan', 'in', 'the', 'west', 'of', 'scotland', 'is', 'welcomed.'], ['skriftlig.', '-', '(lt)', 'jeg', 'hilser', 'den', 'flerårige', 'forvaltningsplan', 'for', 'sildebestanden', 'vest', 'for', 'skotland', 'velkommen.'])), (1105302, (['ms', 'ferrero-waldner', 'and', 'others', 'mentioned', 'what', 'the', 'mission', 'achieved.'], ['fru', 'ferrero-waldner', 'og', 'andre', 'har', 'nævnt,', 'hvad', 'missionen', 'har', 'opnået.'])), (1114602, (['that', 'is', 'what', 'i', 'can', 'tell', 'you.'], ['det', 'er,', 'hvad', 'jeg', 'kan', 'fortælle', 'dem.'])), (1147386, (['we', 'wanted', 'an', 'opinion', 'by', 'the', 'european', 'group', 'on', 'ethics', 'in', 'science', 'and', 'new', 'technologies', 'to', 'be', 'taken', 'into', 'account', 'where', 'there', 'are', 'ethical', 'reservations.'], ['vi', 'ønskede,', 'at', 'der', 'blev', 'taget', 'højde', 'for', 'en', 'udtalelse', 'fra', 'den', 'europæiske', 'gruppe', 'vedrørende', 'etik', 'inden', 'for', 'naturvidenskab', 'og', 'ny', 'teknologi,', 'som', 'omfattede', 'etiske', 'forbehold.'])), (1172514, (['elisa', 'ferreira,', 'our', 'excellent', 'rapporteur,', 'together', 'with', 'the', 'majority', 'of', 'the', 'european', 'parliament,', 'has', 'proposed', 'to', 'you', 'a', 'new', 'strong', 'recovery', 'effort.'], ['vores', 'glimrende', 'ordfører,', 'elisa', 'ferreira,', 'har', 'sammen', 'med', 'flertallet', 'af', 'europa-parlamentet', 'foreslået', 'en', 'ny', 'stærk', 'genopretningsindsats.'])), (1187616, (['i', 'am', 'pleased', 'about', 'the', 'clear', 'declaration', 'by', 'the', 'commission', 'president,', 'the', 'candidate,', 'on', 'the', 'social', 'market', 'economy,', 'on', 'competition', 'and', 'on', 'the', 'internal', 'market.'], ['barroso?', 'det', 'glæder', 'mig', 'at', 'høre', 'den', 'klare', 'udmelding', 'fra', 'kommissionens', 'formand,', 'kandidaten,', 'om', 'den', 'sociale', 'markedsøkonomi,', 'om', 'konkurrence', 'og', 'om', 'det', 'indre', 'marked.']))]\n"
     ]
    }
   ],
   "source": [
    "# Join the two RDDs together according to the line number key\n",
    "en_da = en_2.join(da_2)\n",
    "print(en_da.take(10))"
   ]
  },
  {
   "cell_type": "code",
   "execution_count": 12,
   "metadata": {},
   "outputs": [
    {
     "name": "stdout",
     "output_type": "stream",
     "text": [
      "[(1809060, (['in', 'some', 'cases', 'non-governmental', 'organisations', 'are', 'also', 'involved', 'somewhere', 'along', 'the', 'line.'], ['i', 'nogle', 'tilfælde', 'kommer', 'også', 'ikke-statslige', 'organisationer', 'ind', 'i', 'billedet.'])), (1809300, (['it', 'is', 'demanding', 'of', 'them,', 'so', 'it', 'should', 'also', 'be', 'demanding', 'of', 'itself.'], ['kommissionen', 'er', 'krævende,', 'hvad', 'angår', 'medlemslandene.', 'den', 'skal', 'være', 'krævende.'])), (1810032, (['discussion', 'has', 'already', 'begun', 'on', 'introducing', 'certain', 'minimum', 'standards', 'for', 'this', 'type', 'of', 'protection.'], ['man', 'har', 'allerede', 'indledt', 'forhandlinger', 'om', 'indførelse', 'af', 'visse', 'mindstestandarder', 'i', 'unionen', 'for', 'også', 'disse', 'former', 'for', 'beskyttelse.'])), (1810218, (['at', 'the', 'same', 'time', 'the', 'wto', 'can', 'only', 'play', 'its', 'proper', 'role', 'if', 'the', 'concerns', 'of', 'all', 'participating', 'states', 'are', 'met.'], ['samtidig', 'kan', 'wto', 'kun', 'spille', 'sin', 'rolle,', 'hvis', 'samtlige', 'deltagende', 'staters', 'interesser', 'imødekommes.'])), (1810350, (['estimates', 'of', 'the', 'future', 'share', 'of', 'the', 'various', 'renewable', 'sources', 'are', 'certainly', 'indicative,', 'and', 'will', 'help', 'in', 'the', 'monitoring', 'of', 'progress', 'and', 'to', 'ensure', 'that', 'each', 'technology', 'is', 'utilised', 'within', 'a', 'clear', 'policy', 'framework.'], ['vurderingen', 'med', 'hensyn', 'til', 'de', 'forskellige', 'vedvarende', 'kilders', 'fremtidige', 'andel', 'af', 'produktionen', 'er', 'under', 'alle', 'omstændigheder', 'vejledende', 'og', 'betyder,', 'at', 'fremskridtene', 'kan', 'følges,', 'og', 'at', 'man', 'kan', 'sikre,', 'at', 'de', 'enkelte', 'teknologier', 'udnyttes', 'inden', 'for', 'en', 'klar', 'politisk', 'ramme.'])), (1810482, (['but,', 'as', 'i', 'have', 'said,', 'one', 'might', 'wish', 'that', 'this', 'approach', 'based', 'on', 'the', 'watts', 'report', 'and', 'the', 'commission', 'proposal', 'could', 'be', 'the', 'beginning', 'of', 'a', 'global', 'initiative', 'which', 'will', 'ensure', 'safety', 'at', 'sea', 'everywhere.'], ['men', 'som', 'nævnt', 'kunne', 'man', 'ønske', 'sig,', 'at', 'dette', 'afsæt', 'med', \"watts'\", 'betænkning', 'og', 'kommissionens', 'udspil', 'ville', 'blive', 'begyndelsen', 'til', 'et', 'globalt', 'initiativ,', 'der', 'sikrer', 'sikkerhed', 'til', 'søs', 'overalt.'])), (1810680, (['that', 'is', 'why', 'we', 'must', 'tell', 'the', 'swiss', 'that', 'we', 'insist', 'on', 'a', 'mutual', 'rapprochement', 'and', 'expect', 'an', 'approach', 'based', 'on', 'partnership.'], ['derfor', 'er', 'man', 'nødt', 'til', 'at', 'sige', 'til', 'schweizerne,', 'at', 'vi', 'her', 'må', 'insistere', 'på', 'gensidig', 'tilnærmelse,', 'og', 'at', 'vi', 'forventer', 'imødekommenhed', 'fra', 'vores', 'partnere.'])), (1810710, (['i', 'am', 'very', 'anxious', 'that', 'the', 'union', 'should', 'spend', 'time', 'and', 'money', 'on', 'reversing', 'this', 'trend', 'and', 'clearing', 'the', 'way', 'for', 'sustainable', 'transport', 'systems', 'in', 'eastern', 'europe', 'too.'], ['det', 'er', 'mig', 'meget', 'magtpåliggende,', 'at', 'unionen', 'bruger', 'megen', 'tid', 'og', 'penge', 'på', 'at', 'vende', 'denne', 'tendens,', 'og', 'at', 'vedvarende', 'trafik', 'også', 'bliver', 'mulig', 'i', 'den', 'del', 'af', 'europa.'])), (1810938, (['firstly,', 'there', 'is', 'the', 'unwillingness', 'of', 'national', 'authorities', 'to', 'entrust', 'the', 'european', 'community', 'with', 'the', 'role', 'of', 'coordinating', 'activities', 'and', 'supporting', 'the', 'tourism', 'sector.'], ['for', 'det', 'første', 'de', 'nationale', 'myndigheders', 'manglende', 'vilje', 'til', 'at', 'overdrage', 'det', 'europæiske', 'fællesskab', 'opgaven', 'med', 'at', 'koordinere', 'aktiviteter', 'og', 'støtte', 'turistsektoren.'])), (1811004, (['unfortunately,', 'as', 'we', 'all', 'know,', 'the', 'intergovernmental', 'conference', 'in', 'amsterdam', 'did', 'not', 'come', 'up', 'with', 'a', 'satisfactory', 'solution,', 'and', 'the', 'consequences', 'are', 'evident', 'in', 'that', 'the', 'philoxenia', 'programme,', 'dating', 'back', 'to', '1996,', 'has', 'still', 'not', 'been', 'adopted', 'because', 'there', 'is', 'no', 'legal', 'base', 'and', 'hence', 'no', 'budget', 'line.'], ['som', 'bekendt', 'blev', 'der', 'desværre', 'ikke', 'fundet', 'nogen', 'tilfredsstillende', 'løsning', 'på', 'regeringskonferencen', 'i', 'amsterdam,', 'og', 'vi', 'kan', 'se', 'konsekvenserne', 'heraf', 'i', 'og', 'med,', 'at', 'philoxenia-programmet', 'fra', '1996', 'endnu', 'ikke', 'er', 'blevet', 'vedtaget,', 'eftersom', 'der', 'mangler', 'et', 'retsgrundlag', 'og', 'således', 'også', 'en', 'budgetpost', 'til', 'dette.']))]\n"
     ]
    }
   ],
   "source": [
    "# Filter to exclude line pairs that have an empty/missing “corresponding” sentence\n",
    "en_da1 = en_da.filter(lambda x: len(x[1][0]) > 0  and len(x[1][1]) > 0)\n",
    "print(en_da1.take(10))"
   ]
  },
  {
   "cell_type": "code",
   "execution_count": 13,
   "metadata": {},
   "outputs": [
    {
     "name": "stdout",
     "output_type": "stream",
     "text": [
      "[(2862, (['mr', 'florenz', 'also', 'raised', 'the', 'question', 'of', 'anonymity.'], ['hr.', 'florenz', 'rejste', 'ligeledes', 'spørgsmålet', 'om', 'anonymitet.'])), (263862, ([''], ['lad', 'os', 'prioritere', 'det', 'højere', 'end', 'alle', 'andre', 'anliggender.'])), (387990, (['this', 'we', 'have', 'always', 'supported.'], ['det', 'har', 'vi', 'også', 'altid', 'støttet.'])), (524778, (['the', 'plenary', 'is', 'to', 'decide', 'on', 'this', 'today.'], ['det', 'skal', 'plenarforsamlingen', 'tage', 'stilling', 'til', 'i', 'dag.'])), (548034, (['there', 'will', 'be', 'more', 'enlargements;', 'indeed,', 'they', 'are', 'already', 'imminent.'], ['vi', 'får', 'flere', 'udvidelser,', 'de', 'står', 'jo', 'allerede', 'for', 'døren.'])), (10716, (['the', 'framework', 'directive', 'on', 'water', 'is', 'a', 'necessary', 'initiative.'], ['rammedirektivet', 'for', 'vandpolitiske', 'foranstaltninger', 'er', 'et', 'nødvendigt', 'initiativ.'])), (230046, (['question', 'no', '2', 'by', '(h-0862/01):'], ['spørgsmål', 'nr.', '2', 'af', '(h-0862/01):'])), (269652, (['at', 'that', 'time', 'his', 'purpose', 'was', 'not', 'to', 'fight', 'terrorism.'], ['det', 'drejede', 'sig', 'dengang', 'ikke', 'om', 'kampen', 'mod', 'terrorismen.'])), (272136, (['therefore', 'the', 'commission', 'regrets', 'it', 'cannot', 'accept', 'this', 'amendment.'], ['derfor', 'kan', 'kommissionen', 'desværre', 'ikke', 'acceptere', 'dette', 'ændringsforslag.'])), (588372, (['hence', 'the', 'ira-enforced', 'wall', 'of', 'silence.'], ['det', 'er', 'derfor,', 'ira', 'har', 'skabt', 'en', 'mur', 'af', 'tavshed.']))]\n"
     ]
    }
   ],
   "source": [
    "# Filter to leave only pairs of sentences with a small number of words per sentence \n",
    "# For example 10 \n",
    "en_da2 = en_da1.filter(lambda x: len(x[1][0]) <= 10  and len(x[1][1]) <= 10)\n",
    "print(en_da2.take(10))"
   ]
  },
  {
   "cell_type": "code",
   "execution_count": 15,
   "metadata": {},
   "outputs": [
    {
     "name": "stdout",
     "output_type": "stream",
     "text": [
      "[(529140, (['with', 'both', 'things.'], ['med', 'begge', 'dele.'])), (837078, (['-', 'report:', 'gauzès'], ['betænkning', 'af', 'gauzès'])), (1908084, (['thank', 'you,', 'commissioner.'], ['tak,', 'hr.', 'kommissær.'])), (965934, (['it', 'was', 'painful.'], ['det', 'var', 'pinefuldt.'])), (612222, (['who', 'feeds', 'it?'], ['hvem', 'nærer', 'den?'])), (157086, (['is', 'that', 'clear?'], ['er', 'det', 'klart?'])), (848892, (['who', 'does', 'what?'], ['hvem', 'gør', 'hvad?'])), (339828, (['temporary', 'means', 'temporary.'], ['midlertidig', 'betyder', 'midlertidig.'])), (293694, (['for', 'what', 'transpires?'], ['hvad', 'foregår', 'der?'])), (860202, (['-', 'report:', 'roure'], ['betænkning', 'af', 'roure']))]\n"
     ]
    }
   ],
   "source": [
    "# Filter to leave only pairs of sentences with the same number of words in each sentence\n",
    "# For example 3\n",
    "en_da3 = en_da2.filter(lambda x: len(x[1][0]) == 3  and len(x[1][1]) == 3)\n",
    "print(en_da3.take(10))"
   ]
  },
  {
   "cell_type": "code",
   "execution_count": 22,
   "metadata": {},
   "outputs": [
    {
     "name": "stdout",
     "output_type": "stream",
     "text": [
      "[('-', 'betænkning'), ('report:', 'af'), ('herczog', 'herczog'), ('-', 'betænkning'), ('report:', 'af'), ('herczog', 'herczog'), ('this', 'det'), ('is', 'er'), ('unacceptable.', 'uacceptabelt.'), ('it', 'den')]\n"
     ]
    }
   ],
   "source": [
    "# For each sentence pair, map in order to pair each word in the two sentences\n",
    "# No line numbers\n",
    "def en_da_pair(x):\n",
    "    a = zip(x[1][0],x[1][1])\n",
    "    a = list(a)\n",
    "    return a\n",
    "    \n",
    "en_da4 = en_da3.flatMap(lambda x: en_da_pair(x))\n",
    "print(en_da4.take(10))"
   ]
  },
  {
   "cell_type": "code",
   "execution_count": 23,
   "metadata": {},
   "outputs": [
    {
     "name": "stdout",
     "output_type": "stream",
     "text": [
      "[(('herczog', 'herczog'), 16), (('it', 'den'), 36), (('of', 'af'), 83), (('me', 'mig'), 8), (('that', 'det'), 381), (('true.', 'sandt.'), 14), (('court', 'straffedomstol'), 4), (('my', 'mine'), 3), (('this', 'denne'), 4), (('smoke-free', 'røgfrit'), 1)]\n"
     ]
    }
   ],
   "source": [
    "# Use reduce to count the number of occurrences of the word-translation-pairs\n",
    "en_da5 = en_da4.map(lambda w: (w, 1)).reduceByKey(lambda f1, f2: f1 + f2)\n",
    "print(en_da5.take(10))"
   ]
  },
  {
   "cell_type": "code",
   "execution_count": 24,
   "metadata": {},
   "outputs": [
    {
     "name": "stdout",
     "output_type": "stream",
     "text": [
      "('is', 'er') 791\n",
      "('that', 'det') 381\n",
      "('thank', 'tak,') 259\n",
      "('commissioner.', 'kommissær.') 236\n",
      "('-', 'betænkning') 210\n",
      "('this', 'det') 205\n",
      "('it', 'det') 160\n",
      "('you,', 'hr.') 148\n",
      "('report:', 'af') 126\n",
      "('are', 'er') 95\n"
     ]
    }
   ],
   "source": [
    "# Print some of the most frequently occurring pairs of words\n",
    "en_da6 = en_da5.top(10, lambda wf: wf[1])\n",
    "for word, freq in en_da6:\n",
    "    print(word, freq)"
   ]
  },
  {
   "cell_type": "code",
   "execution_count": null,
   "metadata": {},
   "outputs": [],
   "source": [
    "spark_session.stop()"
   ]
  }
 ],
 "metadata": {
  "kernelspec": {
   "display_name": "Python 3",
   "language": "python",
   "name": "python3"
  },
  "language_info": {
   "codemirror_mode": {
    "name": "ipython",
    "version": 3
   },
   "file_extension": ".py",
   "mimetype": "text/x-python",
   "name": "python",
   "nbconvert_exporter": "python",
   "pygments_lexer": "ipython3",
   "version": "3.6.7"
  }
 },
 "nbformat": 4,
 "nbformat_minor": 2
}
