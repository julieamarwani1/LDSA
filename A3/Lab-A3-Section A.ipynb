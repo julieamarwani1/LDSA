{
 "cells": [
  {
   "cell_type": "markdown",
   "metadata": {},
   "source": [
    "# Part 1\n"
   ]
  },
  {
   "cell_type": "markdown",
   "metadata": {},
   "source": [
    "## Section A - Working with the RDD API"
   ]
  },
  {
   "cell_type": "code",
   "execution_count": 1,
   "metadata": {},
   "outputs": [],
   "source": [
    "from pyspark.sql import SparkSession\n",
    "#from pyspark.ml import Pipeline\n",
    "\n",
    "\n",
    "# (8 cores, 16gb per machine) x 5 = 40 cores\n",
    "\n",
    "\n",
    "# New API\n",
    "spark_session = SparkSession\\\n",
    "        .builder\\\n",
    "        .master(\"spark://192.168.2.87:7077\")\\\n",
    "        .appName(\"Julie_Rajkumar_Amarwani_Lab3\")\\\n",
    "        .config(\"spark.dynamicAllocation.enabled\", True)\\\n",
    "        .config(\"spark.shuffle.service.enabled\", True)\\\n",
    "        .config(\"spark.dynamicAllocation.executorIdleTimeout\",\"30s\")\\\n",
    "        .config(\"spark.executor.cores\",4)\\\n",
    "        .getOrCreate()\n",
    "\n",
    "# Old API (RDD)\n",
    "spark_context = spark_session.sparkContext"
   ]
  },
  {
   "cell_type": "markdown",
   "metadata": {},
   "source": [
    "## Question A.1"
   ]
  },
  {
   "cell_type": "markdown",
   "metadata": {},
   "source": [
    "###  1.1 Reading the English transcripts with Spark and count the number of lines"
   ]
  },
  {
   "cell_type": "code",
   "execution_count": 2,
   "metadata": {},
   "outputs": [
    {
     "name": "stdout",
     "output_type": "stream",
     "text": [
      "Total number of lines in the English transcript is : 1862234\n"
     ]
    }
   ],
   "source": [
    "eng_lines = spark_context.textFile(\"hdfs://192.168.2.87:9000/europarl/europarl-v7.sv-en.en\")\n",
    "\n",
    "#Count number of rows \n",
    "eng_count = eng_lines.count()\n",
    "print(\"Total number of lines in the English transcript is :\",eng_count)"
   ]
  },
  {
   "cell_type": "markdown",
   "metadata": {},
   "source": [
    "###  1.2 Reading the Swedish transcript with Spark and count the number of lines"
   ]
  },
  {
   "cell_type": "code",
   "execution_count": 3,
   "metadata": {},
   "outputs": [
    {
     "name": "stdout",
     "output_type": "stream",
     "text": [
      "Total number of lines in the Swedish transcript is : 1862234\n"
     ]
    }
   ],
   "source": [
    "swe_lines = spark_context.textFile(\"hdfs://192.168.2.87:9000/europarl/europarl-v7.sv-en.sv\")\n",
    "\n",
    "#Count number of rows \n",
    "swe_count = swe_lines.count()\n",
    "print(\"Total number of lines in the Swedish transcript is :\",swe_count)"
   ]
  },
  {
   "cell_type": "markdown",
   "metadata": {},
   "source": [
    "###  1.3 Verifying that the line counts are the same for the two languages."
   ]
  },
  {
   "cell_type": "code",
   "execution_count": 4,
   "metadata": {},
   "outputs": [
    {
     "name": "stdout",
     "output_type": "stream",
     "text": [
      "The line counts are same for the two languages:\n"
     ]
    }
   ],
   "source": [
    "if eng_count==swe_count:\n",
    "    print(\"The line counts are same for the two languages:\")\n",
    "else:\n",
    "    print(\"The line counts are not same for the two languages:\")"
   ]
  },
  {
   "cell_type": "markdown",
   "metadata": {},
   "source": [
    "### 1.4 Count the number of partitions"
   ]
  },
  {
   "cell_type": "code",
   "execution_count": 5,
   "metadata": {},
   "outputs": [
    {
     "name": "stdout",
     "output_type": "stream",
     "text": [
      "Partitions for English RDD are : 2\n",
      "Partitions for Swedish RDD are : 3\n"
     ]
    }
   ],
   "source": [
    "print(\"Partitions for English RDD are :\",eng_lines.getNumPartitions())\n",
    "print(\"Partitions for Swedish RDD are :\",swe_lines.getNumPartitions())"
   ]
  },
  {
   "cell_type": "markdown",
   "metadata": {},
   "source": [
    "## Question A.2"
   ]
  },
  {
   "cell_type": "markdown",
   "metadata": {},
   "source": [
    "### 2.1 Pre-process the text from both RDDs by doing the following:\n",
    "- Lowercase the text\n",
    "- Tokenize the text (split on space)\n"
   ]
  },
  {
   "cell_type": "code",
   "execution_count": 6,
   "metadata": {},
   "outputs": [],
   "source": [
    "def pre_process_text(line):   \n",
    "    line = line.lower()    #1. Lowercase the text     \n",
    "    line = line.split(' ') #2. Tokenize the text (split on space)\n",
    "    return line\n",
    "\n",
    "# Mapping the files to a defined function for pre-processing\n",
    "\n",
    "eng_RDD = eng_lines.map(pre_process_text) #Mapping for English RDD .\n",
    "\n",
    "swe_RDD = swe_lines.map(pre_process_text) #Mapping for Swedish RDD\n"
   ]
  },
  {
   "cell_type": "markdown",
   "metadata": {},
   "source": [
    "### 2.2  Inspect 10 entries from each of your RDDs to verify pre-processing."
   ]
  },
  {
   "cell_type": "code",
   "execution_count": 7,
   "metadata": {},
   "outputs": [
    {
     "name": "stdout",
     "output_type": "stream",
     "text": [
      "[['resumption', 'of', 'the', 'session'], ['i', 'declare', 'resumed', 'the', 'session', 'of', 'the', 'european', 'parliament', 'adjourned', 'on', 'friday', '17', 'december', '1999,', 'and', 'i', 'would', 'like', 'once', 'again', 'to', 'wish', 'you', 'a', 'happy', 'new', 'year', 'in', 'the', 'hope', 'that', 'you', 'enjoyed', 'a', 'pleasant', 'festive', 'period.'], ['although,', 'as', 'you', 'will', 'have', 'seen,', 'the', 'dreaded', \"'millennium\", \"bug'\", 'failed', 'to', 'materialise,', 'still', 'the', 'people', 'in', 'a', 'number', 'of', 'countries', 'suffered', 'a', 'series', 'of', 'natural', 'disasters', 'that', 'truly', 'were', 'dreadful.'], ['you', 'have', 'requested', 'a', 'debate', 'on', 'this', 'subject', 'in', 'the', 'course', 'of', 'the', 'next', 'few', 'days,', 'during', 'this', 'part-session.'], ['in', 'the', 'meantime,', 'i', 'should', 'like', 'to', 'observe', 'a', \"minute'\", 's', 'silence,', 'as', 'a', 'number', 'of', 'members', 'have', 'requested,', 'on', 'behalf', 'of', 'all', 'the', 'victims', 'concerned,', 'particularly', 'those', 'of', 'the', 'terrible', 'storms,', 'in', 'the', 'various', 'countries', 'of', 'the', 'european', 'union.'], ['please', 'rise,', 'then,', 'for', 'this', \"minute'\", 's', 'silence.'], ['(the', 'house', 'rose', 'and', 'observed', 'a', \"minute'\", 's', 'silence)'], ['madam', 'president,', 'on', 'a', 'point', 'of', 'order.'], ['you', 'will', 'be', 'aware', 'from', 'the', 'press', 'and', 'television', 'that', 'there', 'have', 'been', 'a', 'number', 'of', 'bomb', 'explosions', 'and', 'killings', 'in', 'sri', 'lanka.'], ['one', 'of', 'the', 'people', 'assassinated', 'very', 'recently', 'in', 'sri', 'lanka', 'was', 'mr', 'kumar', 'ponnambalam,', 'who', 'had', 'visited', 'the', 'european', 'parliament', 'just', 'a', 'few', 'months', 'ago.']]\n",
      "\n",
      "\n",
      "[['återupptagande', 'av', 'sessionen'], ['jag', 'förklarar', 'europaparlamentets', 'session', 'återupptagen', 'efter', 'avbrottet', 'den', '17', 'december.', 'jag', 'vill', 'på', 'nytt', 'önska', 'er', 'ett', 'gott', 'nytt', 'år', 'och', 'jag', 'hoppas', 'att', 'ni', 'haft', 'en', 'trevlig', 'semester.'], ['som', 'ni', 'kunnat', 'konstatera', 'ägde', '\"den', 'stora', 'år', '2000-buggen\"', 'aldrig', 'rum.', 'däremot', 'har', 'invånarna', 'i', 'ett', 'antal', 'av', 'våra', 'medlemsländer', 'drabbats', 'av', 'naturkatastrofer', 'som', 'verkligen', 'varit', 'förskräckliga.'], ['ni', 'har', 'begärt', 'en', 'debatt', 'i', 'ämnet', 'under', 'sammanträdesperiodens', 'kommande', 'dagar.'], ['till', 'dess', 'vill', 'jag', 'att', 'vi,', 'som', 'ett', 'antal', 'kolleger', 'begärt,', 'håller', 'en', 'tyst', 'minut', 'för', 'offren', 'för', 'bl.a.', 'stormarna', 'i', 'de', 'länder', 'i', 'europeiska', 'unionen', 'som', 'drabbats.'], ['jag', 'ber', 'er', 'resa', 'er', 'för', 'en', 'tyst', 'minut.'], ['(parlamentet', 'höll', 'en', 'tyst', 'minut.)'], ['fru', 'talman!', 'det', 'gäller', 'en', 'ordningsfråga.'], ['ni', 'känner', 'till', 'från', 'media', 'att', 'det', 'skett', 'en', 'rad', 'bombexplosioner', 'och', 'mord', 'i', 'sri', 'lanka.'], ['en', 'av', 'de', 'personer', 'som', 'mycket', 'nyligen', 'mördades', 'i', 'sri', 'lanka', 'var', 'kumar', 'ponnambalam,', 'som', 'besökte', 'europaparlamentet', 'för', 'bara', 'några', 'månader', 'sedan.']]\n"
     ]
    }
   ],
   "source": [
    "print(eng_RDD.take(10))   #Inspecting 10 entries for English RDD\n",
    "print(\"\\n\")\n",
    "print(swe_RDD.take(10))   #Inspecting 10 entries for Swedish RDD"
   ]
  },
  {
   "cell_type": "markdown",
   "metadata": {},
   "source": [
    "### 2.3 Verify that the line counts still match after the pre-processing."
   ]
  },
  {
   "cell_type": "code",
   "execution_count": 8,
   "metadata": {},
   "outputs": [
    {
     "name": "stdout",
     "output_type": "stream",
     "text": [
      "\n",
      "Total number of lines in the English RDD:- \t Before Pre-Processing : 1862234 \t After Pre-Processing :  1862234\n",
      "\n",
      "Total number of lines in the Swedish RDD:- \t Before Pre-Processing : 1862234 \t After Pre-Processing :  1862234\n",
      "\n",
      "The line counts are the same after pre-processing:\n"
     ]
    }
   ],
   "source": [
    "#Counting the number of lines after pre-processing\n",
    "\n",
    "#counting lines for English language RDD\n",
    "pre_eng_count = eng_RDD.count()     \n",
    "print(\"\\nTotal number of lines in the English RDD:- \\t Before Pre-Processing :\",pre_eng_count,\\\n",
    "      \"\\t After Pre-Processing : \",eng_count) \n",
    "\n",
    "#counting lines for Swedish language RDD\n",
    "pre_swe_count = swe_RDD.count()     \n",
    "print(\"\\nTotal number of lines in the Swedish RDD:- \\t Before Pre-Processing :\",pre_swe_count,\\\n",
    "      \"\\t After Pre-Processing : \",swe_count)\n",
    "\n",
    "#Verify that the line counts still match after the pre-processing\n",
    "if eng_count==pre_eng_count and swe_count==pre_swe_count:\n",
    "    print(\"\\nThe line counts are the same after pre-processing:\")\n",
    "else:\n",
    "    print(\"\\nThe line counts are not the same after pre-processing:\")"
   ]
  },
  {
   "cell_type": "markdown",
   "metadata": {},
   "source": [
    "## Question A.3"
   ]
  },
  {
   "cell_type": "markdown",
   "metadata": {},
   "source": [
    "### 3.1 Use Spark to compute the 10 most frequently according words in the English language corpus. Repeat for the other language."
   ]
  },
  {
   "cell_type": "markdown",
   "metadata": {},
   "source": [
    "#####  Most frequently occurring words in the English language corpus."
   ]
  },
  {
   "cell_type": "code",
   "execution_count": 9,
   "metadata": {},
   "outputs": [
    {
     "name": "stdout",
     "output_type": "stream",
     "text": [
      "\n",
      " [('the', 3498574), ('of', 1659884), ('to', 1539823), ('and', 1288620), ('in', 1086089), ('that', 797576), ('a', 773812), ('is', 758087), ('for', 534270), ('we', 522879)] \n",
      "\n"
     ]
    }
   ],
   "source": [
    "# eng_lines = spark_context.textFile(\"hdfs://192.168.2.87:9000/europarl/europarl-v7.sv-en.en\")\n",
    "\n",
    "# flatMap() to output multiple elements for each input value, split on based of all white space charatcter\n",
    "eng_rdd = eng_lines.flatMap(lambda x: x.lower().split())\n",
    "\n",
    "# Map a tuple and append int 1 for each word \n",
    "eng_rdd = eng_rdd.map(lambda x:(x,1))\n",
    "\n",
    "# Perform aggregation (sum) all the int values for each unique key\n",
    "eng_rdd = eng_rdd.reduceByKey(lambda x, y: x+y)\n",
    "\n",
    "# Here I used lambda to sort by descending order so I can grab the top 10 outputs and print them\n",
    "\n",
    "print(\"\\n\",eng_rdd.takeOrdered(10, key=lambda x: -x[1]),\"\\n\")\n"
   ]
  },
  {
   "cell_type": "markdown",
   "metadata": {},
   "source": [
    "#####  Most frequently occurring words in the Swedish language corpus."
   ]
  },
  {
   "cell_type": "code",
   "execution_count": 10,
   "metadata": {},
   "outputs": [
    {
     "name": "stdout",
     "output_type": "stream",
     "text": [
      "att 1706309\n",
      "och 1344895\n",
      "i 1050989\n",
      "det 924878\n",
      "som 913302\n",
      "för 908703\n",
      "av 738102\n",
      "är 694389\n",
      "en 620347\n",
      "vi 539808\n"
     ]
    }
   ],
   "source": [
    "# swe_lines = spark_context.textFile(\"hdfs://192.168.2.87:9000/europarl/europarl-v7.sv-en.sv\")\n",
    "\n",
    "# flatMap() to output multiple elements for each input value, split on based of all white space charatcter\n",
    "swe_rdd = swe_lines.flatMap(lambda x: x.lower().split())\n",
    "\n",
    "# Map a tuple and append int 1 for each word\n",
    "swe_rdd = swe_rdd.map(lambda a:(a,1))\n",
    "\n",
    "# Perform aggregation (sum) all the int values for each unique key\n",
    "swe_rdd = swe_rdd.reduceByKey(lambda a, b: a+b)\n",
    "\n",
    "# This is where I need a function or lambda to sort by descending order so I can grab the top 10 elements, \n",
    "# Then print them out below with for loop\n",
    "\n",
    "top_10 = swe_rdd.top(10, lambda w: w[1])\n",
    "for word, occur in top_10:\n",
    "    print(word, occur)"
   ]
  },
  {
   "cell_type": "markdown",
   "metadata": {},
   "source": [
    "###  3.2 Verify that your results are reasonable."
   ]
  },
  {
   "cell_type": "markdown",
   "metadata": {},
   "source": [
    "- After translation Swedish to English, it was found that many words matched with the frequent English words. Considering the same it seems that results are reasonable"
   ]
  },
  {
   "cell_type": "markdown",
   "metadata": {},
   "source": [
    "## Question A.4"
   ]
  },
  {
   "cell_type": "markdown",
   "metadata": {},
   "source": [
    "###  4.1 Use this parallel corpus to mine some translations in the form of word pairs, for the two languages. We’ll achieve this by looking for pairs of words that frequently occur in the same position within lines.\n",
    "\n",
    "#### Work with the pair of RDDs you created in question A.2. \n",
    "#### Hint: make a new pair of RDDs for each step, sv_1, en_1, sv_2, en_2, ...\n"
   ]
  },
  {
   "cell_type": "markdown",
   "metadata": {},
   "source": [
    "### 1. Key the lines by their line number (hint: ZipWithIndex())."
   ]
  },
  {
   "cell_type": "code",
   "execution_count": 11,
   "metadata": {},
   "outputs": [
    {
     "name": "stdout",
     "output_type": "stream",
     "text": [
      "[(['resumption', 'of', 'the', 'session'], 0), (['i', 'declare', 'resumed', 'the', 'session', 'of', 'the', 'european', 'parliament', 'adjourned', 'on', 'friday', '17', 'december', '1999,', 'and', 'i', 'would', 'like', 'once', 'again', 'to', 'wish', 'you', 'a', 'happy', 'new', 'year', 'in', 'the', 'hope', 'that', 'you', 'enjoyed', 'a', 'pleasant', 'festive', 'period.'], 1), (['although,', 'as', 'you', 'will', 'have', 'seen,', 'the', 'dreaded', \"'millennium\", \"bug'\", 'failed', 'to', 'materialise,', 'still', 'the', 'people', 'in', 'a', 'number', 'of', 'countries', 'suffered', 'a', 'series', 'of', 'natural', 'disasters', 'that', 'truly', 'were', 'dreadful.'], 2), (['you', 'have', 'requested', 'a', 'debate', 'on', 'this', 'subject', 'in', 'the', 'course', 'of', 'the', 'next', 'few', 'days,', 'during', 'this', 'part-session.'], 3), (['in', 'the', 'meantime,', 'i', 'should', 'like', 'to', 'observe', 'a', \"minute'\", 's', 'silence,', 'as', 'a', 'number', 'of', 'members', 'have', 'requested,', 'on', 'behalf', 'of', 'all', 'the', 'victims', 'concerned,', 'particularly', 'those', 'of', 'the', 'terrible', 'storms,', 'in', 'the', 'various', 'countries', 'of', 'the', 'european', 'union.'], 4), (['please', 'rise,', 'then,', 'for', 'this', \"minute'\", 's', 'silence.'], 5), (['(the', 'house', 'rose', 'and', 'observed', 'a', \"minute'\", 's', 'silence)'], 6), (['madam', 'president,', 'on', 'a', 'point', 'of', 'order.'], 7), (['you', 'will', 'be', 'aware', 'from', 'the', 'press', 'and', 'television', 'that', 'there', 'have', 'been', 'a', 'number', 'of', 'bomb', 'explosions', 'and', 'killings', 'in', 'sri', 'lanka.'], 8), (['one', 'of', 'the', 'people', 'assassinated', 'very', 'recently', 'in', 'sri', 'lanka', 'was', 'mr', 'kumar', 'ponnambalam,', 'who', 'had', 'visited', 'the', 'european', 'parliament', 'just', 'a', 'few', 'months', 'ago.'], 9)]\n",
      "\n",
      "\n",
      "[(['återupptagande', 'av', 'sessionen'], 0), (['jag', 'förklarar', 'europaparlamentets', 'session', 'återupptagen', 'efter', 'avbrottet', 'den', '17', 'december.', 'jag', 'vill', 'på', 'nytt', 'önska', 'er', 'ett', 'gott', 'nytt', 'år', 'och', 'jag', 'hoppas', 'att', 'ni', 'haft', 'en', 'trevlig', 'semester.'], 1), (['som', 'ni', 'kunnat', 'konstatera', 'ägde', '\"den', 'stora', 'år', '2000-buggen\"', 'aldrig', 'rum.', 'däremot', 'har', 'invånarna', 'i', 'ett', 'antal', 'av', 'våra', 'medlemsländer', 'drabbats', 'av', 'naturkatastrofer', 'som', 'verkligen', 'varit', 'förskräckliga.'], 2), (['ni', 'har', 'begärt', 'en', 'debatt', 'i', 'ämnet', 'under', 'sammanträdesperiodens', 'kommande', 'dagar.'], 3), (['till', 'dess', 'vill', 'jag', 'att', 'vi,', 'som', 'ett', 'antal', 'kolleger', 'begärt,', 'håller', 'en', 'tyst', 'minut', 'för', 'offren', 'för', 'bl.a.', 'stormarna', 'i', 'de', 'länder', 'i', 'europeiska', 'unionen', 'som', 'drabbats.'], 4), (['jag', 'ber', 'er', 'resa', 'er', 'för', 'en', 'tyst', 'minut.'], 5), (['(parlamentet', 'höll', 'en', 'tyst', 'minut.)'], 6), (['fru', 'talman!', 'det', 'gäller', 'en', 'ordningsfråga.'], 7), (['ni', 'känner', 'till', 'från', 'media', 'att', 'det', 'skett', 'en', 'rad', 'bombexplosioner', 'och', 'mord', 'i', 'sri', 'lanka.'], 8), (['en', 'av', 'de', 'personer', 'som', 'mycket', 'nyligen', 'mördades', 'i', 'sri', 'lanka', 'var', 'kumar', 'ponnambalam,', 'som', 'besökte', 'europaparlamentet', 'för', 'bara', 'några', 'månader', 'sedan.'], 9)]\n"
     ]
    }
   ],
   "source": [
    "#eng_RDD and swe_RDD from A2\n",
    "en_1 = eng_RDD.zipWithIndex()\n",
    "print(en_1.take(10))\n",
    "\n",
    "print(\"\\n\")\n",
    "\n",
    "sv_1 = swe_RDD.zipWithIndex()\n",
    "print(sv_1.take(10))"
   ]
  },
  {
   "cell_type": "markdown",
   "metadata": {},
   "source": [
    "### 2. Swap the key and value - so that the line number is the key."
   ]
  },
  {
   "cell_type": "code",
   "execution_count": 12,
   "metadata": {},
   "outputs": [
    {
     "name": "stdout",
     "output_type": "stream",
     "text": [
      "\n",
      " [(0, ['resumption', 'of', 'the', 'session']), (1, ['i', 'declare', 'resumed', 'the', 'session', 'of', 'the', 'european', 'parliament', 'adjourned', 'on', 'friday', '17', 'december', '1999,', 'and', 'i', 'would', 'like', 'once', 'again', 'to', 'wish', 'you', 'a', 'happy', 'new', 'year', 'in', 'the', 'hope', 'that', 'you', 'enjoyed', 'a', 'pleasant', 'festive', 'period.']), (2, ['although,', 'as', 'you', 'will', 'have', 'seen,', 'the', 'dreaded', \"'millennium\", \"bug'\", 'failed', 'to', 'materialise,', 'still', 'the', 'people', 'in', 'a', 'number', 'of', 'countries', 'suffered', 'a', 'series', 'of', 'natural', 'disasters', 'that', 'truly', 'were', 'dreadful.']), (3, ['you', 'have', 'requested', 'a', 'debate', 'on', 'this', 'subject', 'in', 'the', 'course', 'of', 'the', 'next', 'few', 'days,', 'during', 'this', 'part-session.']), (4, ['in', 'the', 'meantime,', 'i', 'should', 'like', 'to', 'observe', 'a', \"minute'\", 's', 'silence,', 'as', 'a', 'number', 'of', 'members', 'have', 'requested,', 'on', 'behalf', 'of', 'all', 'the', 'victims', 'concerned,', 'particularly', 'those', 'of', 'the', 'terrible', 'storms,', 'in', 'the', 'various', 'countries', 'of', 'the', 'european', 'union.']), (5, ['please', 'rise,', 'then,', 'for', 'this', \"minute'\", 's', 'silence.']), (6, ['(the', 'house', 'rose', 'and', 'observed', 'a', \"minute'\", 's', 'silence)']), (7, ['madam', 'president,', 'on', 'a', 'point', 'of', 'order.']), (8, ['you', 'will', 'be', 'aware', 'from', 'the', 'press', 'and', 'television', 'that', 'there', 'have', 'been', 'a', 'number', 'of', 'bomb', 'explosions', 'and', 'killings', 'in', 'sri', 'lanka.']), (9, ['one', 'of', 'the', 'people', 'assassinated', 'very', 'recently', 'in', 'sri', 'lanka', 'was', 'mr', 'kumar', 'ponnambalam,', 'who', 'had', 'visited', 'the', 'european', 'parliament', 'just', 'a', 'few', 'months', 'ago.'])]\n",
      "\n",
      "\n",
      " [(0, ['återupptagande', 'av', 'sessionen']), (1, ['jag', 'förklarar', 'europaparlamentets', 'session', 'återupptagen', 'efter', 'avbrottet', 'den', '17', 'december.', 'jag', 'vill', 'på', 'nytt', 'önska', 'er', 'ett', 'gott', 'nytt', 'år', 'och', 'jag', 'hoppas', 'att', 'ni', 'haft', 'en', 'trevlig', 'semester.']), (2, ['som', 'ni', 'kunnat', 'konstatera', 'ägde', '\"den', 'stora', 'år', '2000-buggen\"', 'aldrig', 'rum.', 'däremot', 'har', 'invånarna', 'i', 'ett', 'antal', 'av', 'våra', 'medlemsländer', 'drabbats', 'av', 'naturkatastrofer', 'som', 'verkligen', 'varit', 'förskräckliga.']), (3, ['ni', 'har', 'begärt', 'en', 'debatt', 'i', 'ämnet', 'under', 'sammanträdesperiodens', 'kommande', 'dagar.']), (4, ['till', 'dess', 'vill', 'jag', 'att', 'vi,', 'som', 'ett', 'antal', 'kolleger', 'begärt,', 'håller', 'en', 'tyst', 'minut', 'för', 'offren', 'för', 'bl.a.', 'stormarna', 'i', 'de', 'länder', 'i', 'europeiska', 'unionen', 'som', 'drabbats.']), (5, ['jag', 'ber', 'er', 'resa', 'er', 'för', 'en', 'tyst', 'minut.']), (6, ['(parlamentet', 'höll', 'en', 'tyst', 'minut.)']), (7, ['fru', 'talman!', 'det', 'gäller', 'en', 'ordningsfråga.']), (8, ['ni', 'känner', 'till', 'från', 'media', 'att', 'det', 'skett', 'en', 'rad', 'bombexplosioner', 'och', 'mord', 'i', 'sri', 'lanka.']), (9, ['en', 'av', 'de', 'personer', 'som', 'mycket', 'nyligen', 'mördades', 'i', 'sri', 'lanka', 'var', 'kumar', 'ponnambalam,', 'som', 'besökte', 'europaparlamentet', 'för', 'bara', 'några', 'månader', 'sedan.'])]\n"
     ]
    }
   ],
   "source": [
    "en_2 = en_1.map(lambda a: (a[1], a[0]))\n",
    "sv_2 = sv_1.map(lambda b: (b[1], b[0]))\n",
    "print(\"\\n\",en_2.take(10))\n",
    "print(\"\\n\\n\",sv_2.take(10))"
   ]
  },
  {
   "cell_type": "markdown",
   "metadata": {},
   "source": [
    "### 3. Join the two RDDs together according to the line number key, so you have pairs of lines with the same line number."
   ]
  },
  {
   "cell_type": "code",
   "execution_count": 13,
   "metadata": {},
   "outputs": [
    {
     "name": "stdout",
     "output_type": "stream",
     "text": [
      "[(0, (['resumption', 'of', 'the', 'session'], ['återupptagande', 'av', 'sessionen'])), (1, (['i', 'declare', 'resumed', 'the', 'session', 'of', 'the', 'european', 'parliament', 'adjourned', 'on', 'friday', '17', 'december', '1999,', 'and', 'i', 'would', 'like', 'once', 'again', 'to', 'wish', 'you', 'a', 'happy', 'new', 'year', 'in', 'the', 'hope', 'that', 'you', 'enjoyed', 'a', 'pleasant', 'festive', 'period.'], ['jag', 'förklarar', 'europaparlamentets', 'session', 'återupptagen', 'efter', 'avbrottet', 'den', '17', 'december.', 'jag', 'vill', 'på', 'nytt', 'önska', 'er', 'ett', 'gott', 'nytt', 'år', 'och', 'jag', 'hoppas', 'att', 'ni', 'haft', 'en', 'trevlig', 'semester.'])), (2, (['although,', 'as', 'you', 'will', 'have', 'seen,', 'the', 'dreaded', \"'millennium\", \"bug'\", 'failed', 'to', 'materialise,', 'still', 'the', 'people', 'in', 'a', 'number', 'of', 'countries', 'suffered', 'a', 'series', 'of', 'natural', 'disasters', 'that', 'truly', 'were', 'dreadful.'], ['som', 'ni', 'kunnat', 'konstatera', 'ägde', '\"den', 'stora', 'år', '2000-buggen\"', 'aldrig', 'rum.', 'däremot', 'har', 'invånarna', 'i', 'ett', 'antal', 'av', 'våra', 'medlemsländer', 'drabbats', 'av', 'naturkatastrofer', 'som', 'verkligen', 'varit', 'förskräckliga.'])), (3, (['you', 'have', 'requested', 'a', 'debate', 'on', 'this', 'subject', 'in', 'the', 'course', 'of', 'the', 'next', 'few', 'days,', 'during', 'this', 'part-session.'], ['ni', 'har', 'begärt', 'en', 'debatt', 'i', 'ämnet', 'under', 'sammanträdesperiodens', 'kommande', 'dagar.'])), (4, (['in', 'the', 'meantime,', 'i', 'should', 'like', 'to', 'observe', 'a', \"minute'\", 's', 'silence,', 'as', 'a', 'number', 'of', 'members', 'have', 'requested,', 'on', 'behalf', 'of', 'all', 'the', 'victims', 'concerned,', 'particularly', 'those', 'of', 'the', 'terrible', 'storms,', 'in', 'the', 'various', 'countries', 'of', 'the', 'european', 'union.'], ['till', 'dess', 'vill', 'jag', 'att', 'vi,', 'som', 'ett', 'antal', 'kolleger', 'begärt,', 'håller', 'en', 'tyst', 'minut', 'för', 'offren', 'för', 'bl.a.', 'stormarna', 'i', 'de', 'länder', 'i', 'europeiska', 'unionen', 'som', 'drabbats.'])), (5, (['please', 'rise,', 'then,', 'for', 'this', \"minute'\", 's', 'silence.'], ['jag', 'ber', 'er', 'resa', 'er', 'för', 'en', 'tyst', 'minut.'])), (6, (['(the', 'house', 'rose', 'and', 'observed', 'a', \"minute'\", 's', 'silence)'], ['(parlamentet', 'höll', 'en', 'tyst', 'minut.)'])), (7, (['madam', 'president,', 'on', 'a', 'point', 'of', 'order.'], ['fru', 'talman!', 'det', 'gäller', 'en', 'ordningsfråga.'])), (8, (['you', 'will', 'be', 'aware', 'from', 'the', 'press', 'and', 'television', 'that', 'there', 'have', 'been', 'a', 'number', 'of', 'bomb', 'explosions', 'and', 'killings', 'in', 'sri', 'lanka.'], ['ni', 'känner', 'till', 'från', 'media', 'att', 'det', 'skett', 'en', 'rad', 'bombexplosioner', 'och', 'mord', 'i', 'sri', 'lanka.'])), (9, (['one', 'of', 'the', 'people', 'assassinated', 'very', 'recently', 'in', 'sri', 'lanka', 'was', 'mr', 'kumar', 'ponnambalam,', 'who', 'had', 'visited', 'the', 'european', 'parliament', 'just', 'a', 'few', 'months', 'ago.'], ['en', 'av', 'de', 'personer', 'som', 'mycket', 'nyligen', 'mördades', 'i', 'sri', 'lanka', 'var', 'kumar', 'ponnambalam,', 'som', 'besökte', 'europaparlamentet', 'för', 'bara', 'några', 'månader', 'sedan.']))]\n"
     ]
    }
   ],
   "source": [
    "en_sv = en_2.join(sv_2)\n",
    "print(en_sv.takeOrdered(10))"
   ]
  },
  {
   "cell_type": "markdown",
   "metadata": {},
   "source": [
    "### 4. Filter to exclude line pairs that have an empty/missing “corresponding” sentence."
   ]
  },
  {
   "cell_type": "code",
   "execution_count": 14,
   "metadata": {},
   "outputs": [
    {
     "name": "stdout",
     "output_type": "stream",
     "text": [
      "[(1862233, (['(the', 'sitting', 'was', 'closed', 'at', '10.50', 'a.m.)'], ['(sammanträdet', 'avslutades', 'kl.10.50.)'])), (1862232, (['i', 'declare', 'the', 'session', 'of', 'the', 'european', 'parliament', 'adjourned.'], ['jag', 'förklarar', 'europaparlamentets', 'session', 'avbruten.'])), (1862231, (['adjournment', 'of', 'the', 'session'], ['avbrytande', 'av', 'sessionen'])), (1862230, (['i', 'am', 'not', 'going', 'to', 're-open', 'the', \"'millennium\", 'or', 'not', 'the', \"millennium'\", 'debate,', 'but', 'i', 'am', 'going', 'to', 'wish', 'all', 'of', 'you,', 'and', 'by', 'extension,', 'all', 'the', 'citizens', 'of', 'europe', 'which', 'we', 'represent,', 'a', 'happy', 'year', '2000.'], ['jag', 'kommer', 'inte', 'att', 'åter', 'igen', 'sätta', 'igång', 'debatten', 'om', '\"', 'millennium', 'ja,', 'millennium', 'nej\"', 'men', 'jag', 'önskar', 'er', 'alla', 'och', 'alla', 'europas', 'medborgare,', 'som', 'vi', 'företräder', 'här,', 'ett', 'gott', 'nytt', 'år', '2000.'])), (1862229, (['i', 'would', 'also', 'like,', 'although', 'they', 'are', 'absent,', 'to', 'mention', 'the', 'commission', 'and', 'the', 'council.'], ['jag', 'skulle', 'också', 'vilja', 'vända', 'mig', 'till', 'kommissionen', 'och', 'rådet', 'även', 'om', 'de', 'inte', 'är', 'närvarande.'])), (1862228, (['ladies', 'and', 'gentlemen,', 'before', 'you', 'leave', 'me', 'alone,', 'i', 'would', 'like', 'on', 'behalf', 'of', 'the', 'bureau,', 'once', 'again,', 'to', 'thank', 'all', 'the', 'members,', 'all', 'the', 'services,', 'officials,', 'assistants', 'and', 'other', 'co-workers', 'and,', 'if', 'you', 'will', 'allow', 'me', '-', 'although', 'all', 'the', 'co-workers', 'work', 'for', 'us', '-', 'perhaps', 'a', 'special', 'mention', 'should', 'go', 'to', 'the', 'language', 'services', 'which', 'help', 'us', 'to', 'understand', 'each', 'other', 'here.'], ['ledamöter,', 'innan', 'ni', 'lämnar', 'mig', 'ensam', 'skulle', 'jag', 'å', 'presidiets', 'vägnar', 'vilja', 'insistera', 'på', 'att', 'tacka', 'alla', 'ledamöter,', 'alla', 'tjänsteenheter,', 'tjänstemän,', 'assistenter', 'och', 'övriga', 'medarbetare,', 'och', 'om', 'ni', 'tillåter', 'mig', '-', 'även', 'om', 'alla', 'medarbetare', 'arbetar', 'för', 'oss', '-', 'ett', 'särskilt', 'tack', 'till', 'språktjänsterna', 'som', 'hjälper', 'oss', 'att', 'förstå', 'varandra', 'här.'])), (1862227, (['mr', 'president,', 'i', 'would', 'like', 'to', 'take', 'this', 'opportunity', 'to', 'wish', 'you,', 'the', 'bureau', 'and', 'all', 'members,', 'a', 'good', 'transition', 'into', 'the', 'new', 'year.'], ['herr', 'talman!', 'jag', 'vill', 'ta', 'det', 'här', 'tillfället', 'i', 'akt', 'att', 'önska', 'er,', 'presidiet', 'och', 'alla', 'kolleger', 'en', 'fin', 'övergång', 'till', 'det', 'nya', 'året.'])), (1862226, (['mr', 'manders', 'has', 'the', 'floor', 'for', 'a', 'procedural', 'motion.'], ['manders', 'har', 'ordet', 'för', 'en', 'ordningsfråga.'])), (1862225, (['the', 'minutes', 'of', 'the', 'present', 'sitting', 'will', 'be', 'subject', 'to', \"parliament'\", 's', 'approval', 'at', 'the', 'beginning', 'of', 'the', 'next', 'part-session.'], ['protokollet', 'för', 'detta', 'sammanträde', 'kommer', 'att', 'justeras', 'av', 'parlamentet', 'i', 'början', 'av', 'nästa', 'sammanträde.'])), (1862224, (['having', 'said', 'that,', 'parliament', 'has', 'reached', 'the', 'end', 'of', 'the', 'agenda.'], ['ledamöter,', 'med', 'detta', 'sagt', 'har', 'parlamentet', 'gått', 'igenom', 'föredragningslistan.']))]\n"
     ]
    }
   ],
   "source": [
    "en_sv1 = en_sv.filter(lambda x: len(x[1][0]) >0 and len(x[1][1]) >0)\n",
    "print(en_sv1.top(10))"
   ]
  },
  {
   "cell_type": "markdown",
   "metadata": {},
   "source": [
    "### 5. Filter to leave only pairs of sentences with a small number of words per sentence, this should give a more reliable translation (you can experiment)."
   ]
  },
  {
   "cell_type": "code",
   "execution_count": 15,
   "metadata": {},
   "outputs": [
    {
     "name": "stdout",
     "output_type": "stream",
     "text": [
      "[(0, (['resumption', 'of', 'the', 'session'], ['återupptagande', 'av', 'sessionen'])), (7, (['madam', 'president,', 'on', 'a', 'point', 'of', 'order.'], ['fru', 'talman!', 'det', 'gäller', 'en', 'ordningsfråga.'])), (13, (['madam', 'president,', 'on', 'a', 'point', 'of', 'order.'], ['fru', 'talman!', 'det', 'gäller', 'en', 'ordningsfråga.'])), (21, ([''], ['fru', 'talman!'])), (28, (['it', 'is', 'the', 'case', 'of', 'alexander', 'nikitin.'], ['det', 'gäller', 'fallet', 'alexander', 'nikitin.'])), (46, (['mr', 'berenguer', 'fuster,', 'we', 'shall', 'check', 'all', 'this.'], ['kära', 'kollega!', 'vi', 'skall', 'kontrollera', 'allt', 'detta.'])), (50, (['agenda'], ['arbetsplan'])), (53, (['relating', 'to', 'wednesday:'], ['beträffande', 'onsdag:'])), (69, (['(applause', 'from', 'the', 'pse', 'group)'], ['(applåder', 'från', 'pse)'])), (71, (['(parliament', 'rejected', 'the', 'request)', 'president.'], ['(parlamentet', 'avslog', 'begäran.)', 'talmannen.']))]\n"
     ]
    }
   ],
   "source": [
    "# I am taking here less than or equals to 8 words\n",
    "\n",
    "en_sv2 = en_sv1.filter(lambda x: len(x[1][0]) <= 8 and len(x[1][1]) <= 8)\n",
    "print(en_sv2.takeOrdered(10))"
   ]
  },
  {
   "cell_type": "markdown",
   "metadata": {},
   "source": [
    "### 6. Filter to leave only pairs of sentences with the same number of words in each sentence."
   ]
  },
  {
   "cell_type": "code",
   "execution_count": 16,
   "metadata": {},
   "outputs": [
    {
     "name": "stdout",
     "output_type": "stream",
     "text": [
      "[(96, (['that', 'did', 'not', 'happen.'], ['så', 'blev', 'inte', 'fallet.'])), (183, (['the', 'debate', 'is', 'closed.'], ['jag', 'förklarar', 'debatten', 'avslutad.'])), (255, (['the', 'debate', 'is', 'closed.'], ['jag', 'förklarar', 'debatten', 'avslutad.'])), (468, (['the', 'debate', 'is', 'closed.'], ['jag', 'förklarar', 'debatten', 'avslutad.'])), (633, (['the', 'debate', 'is', 'closed.'], ['jag', 'förklarar', 'debatten', 'avslutad.'])), (638, (['are', 'there', 'any', 'comments?'], ['finns', 'det', 'några', 'synpunkter?'])), (1521, (['nothing', 'has', 'changed', 'there.'], ['det', 'har', 'inte', 'ändrats.'])), (1951, (['many', 'thanks', 'for', 'this.'], ['tusen', 'tack', 'för', 'detta.'])), (2189, (['the', 'debate', 'is', 'closed.'], ['jag', 'förklarar', 'debatten', 'avslutad.'])), (2338, (['it', 'was', 'very', 'small.'], ['den', 'var', 'mycket', 'liten.']))]\n"
     ]
    }
   ],
   "source": [
    "en_sv3 = en_sv2.filter(lambda x: len(x[1][0]) == 4 and len(x[1][1]) == 4)\n",
    "print(en_sv3.takeOrdered(10))"
   ]
  },
  {
   "cell_type": "markdown",
   "metadata": {},
   "source": [
    "### 7. For each sentence pair, map to give a list of word pairs (in order) from the two sentences. We no longer need the line numbers.  (hint: use python’s built in zip() function)"
   ]
  },
  {
   "cell_type": "code",
   "execution_count": 17,
   "metadata": {},
   "outputs": [
    {
     "name": "stdout",
     "output_type": "stream",
     "text": [
      "\n",
      " [('\"women', '\"kvinnor'), (\"'cdu,\", '”cdu,'), (\"'commercial'\", 'begreppet'), (\"'compensated'.\", '”gottgörs”.'), (\"'ecological\", '”ekologiskt'), (\"'excessive'\", '?överdrivna?'), (\"'for'.\", '”ja”.'), (\"'good\", '”lycka'), (\"'how\", '\"hur'), (\"'i\", 'jag')]\n"
     ]
    }
   ],
   "source": [
    "en_sv4 = en_sv3.flatMap(lambda x: zip(x[1][0],x[1][1]))\n",
    "print(\"\\n\",en_sv4.takeOrdered(10))\n",
    "#eng_swe4.collect()"
   ]
  },
  {
   "cell_type": "markdown",
   "metadata": {},
   "source": [
    "### 8. Use reduce to count the number of occurrences of the word-translation-pairs."
   ]
  },
  {
   "cell_type": "code",
   "execution_count": 18,
   "metadata": {},
   "outputs": [
    {
     "name": "stdout",
     "output_type": "stream",
     "text": [
      "[(('acknowledged.', 'enhälligt.'), 1), (('the', 'dagens'), 1), (('received:', 'dokument:'), 226), (('subject:', 'angående:'), 57), (('cattle', 'tillväxthormoner'), 1), (('that', 'det'), 561), (('requires', 'kräver'), 10), (('written', 'skriftliga'), 847), (('closed.', 'avslutad.'), 2534), (('voted', 'röstade'), 66)]\n"
     ]
    }
   ],
   "source": [
    "# Ref:- https://pythonexamples.org/pyspark-word-count-example/\n",
    "\n",
    "en_sv5 = en_sv4.map(lambda word: (word, 1)).reduceByKey(lambda a, b: a + b)\n",
    "print(en_sv5.take(10))"
   ]
  },
  {
   "cell_type": "markdown",
   "metadata": {},
   "source": [
    "### 9. Print some of the most frequently occurring pairs of words."
   ]
  },
  {
   "cell_type": "code",
   "execution_count": 19,
   "metadata": {},
   "outputs": [
    {
     "name": "stdout",
     "output_type": "stream",
     "text": [
      "\n",
      " [(('closed.', 'avslutad.'), 2534), (('is', 'är'), 1588), (('is', 'debatten'), 1324), (('the', 'jag'), 1324), (('debate', 'förklarar'), 1317), (('the', 'debatten'), 1225), (('is', 'härmed'), 1215), (('debate', 'är'), 1187), (('(rule', '(artikel'), 893), (('written', 'skriftliga'), 847)] \n",
      "\n"
     ]
    }
   ],
   "source": [
    "print(\"\\n\",en_sv5.takeOrdered(10, key=lambda x: -x[1]),\"\\n\")"
   ]
  },
  {
   "cell_type": "markdown",
   "metadata": {},
   "source": [
    "### Do your translations seem reasonable? Use a dictionary to check a few \n",
    "#### (don’t worry, you won’t be marked down for incorrect translations!)."
   ]
  },
  {
   "cell_type": "markdown",
   "metadata": {},
   "source": [
    "While manually comparing with google translate, the translation seemed reasonable."
   ]
  },
  {
   "cell_type": "code",
   "execution_count": 20,
   "metadata": {},
   "outputs": [],
   "source": [
    "spark_session.stop()"
   ]
  },
  {
   "cell_type": "code",
   "execution_count": null,
   "metadata": {},
   "outputs": [],
   "source": []
  }
 ],
 "metadata": {
  "kernelspec": {
   "display_name": "Python 3",
   "language": "python",
   "name": "python3"
  },
  "language_info": {
   "codemirror_mode": {
    "name": "ipython",
    "version": 3
   },
   "file_extension": ".py",
   "mimetype": "text/x-python",
   "name": "python",
   "nbconvert_exporter": "python",
   "pygments_lexer": "ipython3",
   "version": "3.6.9"
  }
 },
 "nbformat": 4,
 "nbformat_minor": 2
}
